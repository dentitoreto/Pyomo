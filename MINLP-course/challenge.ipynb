{
  "cells": [
    {
      "cell_type": "code",
      "execution_count": null,
      "metadata": {
        "id": "gW56lsr3VYZN"
      },
      "outputs": [],
      "source": [
        "!pip install pyomo\n",
        "import pyomo.environ as pyo\n",
        "from pyomo.opt import SolverManagerFactory\n",
        "import pandas as pd"
      ]
    },
    {
      "cell_type": "code",
      "execution_count": 15,
      "metadata": {
        "id": "87nMrzsWyXKa"
      },
      "outputs": [],
      "source": [
        "model = pyo.ConcreteModel()\n",
        "\n",
        "model.i = pyo.RangeSet(1,3)\n",
        "\n",
        "D = pd.read_excel('S7P3_Data.xlsx', sheet_name = 'Sheet1', header=0, index_col=0, usecols='A:J', nrows=3)\n",
        "model.Vt = pyo.Param(initialize = 350)\n",
        "Vt=model.Vt\n",
        "model.DPt = pyo.Param(initialize = 400)\n",
        "DPt=model.DPt\n",
        "model.Wmax = pyo.Param(initialize = 2950)\n",
        "Wmax=model.Wmax\n",
        "model.Npmax = pyo.Param(initialize = 3)\n",
        "Npmax=model.Npmax\n",
        "model.Nsmax = pyo.Param(initialize = 3)\n",
        "Nsmax=model.Nsmax\n",
        "\n",
        "model.x = pyo.Var(model.i, domain = pyo.NonNegativeReals, bounds = (0,1))\n",
        "x=model.x\n",
        "\n",
        "model.v = pyo.Var(model.i, domain = pyo.NonNegativeReals, bounds = (0,Vt))\n",
        "v=model.v\n",
        "\n",
        "model.w = pyo.Var(model.i, domain = pyo.NonNegativeReals, bounds = (0,Wmax))\n",
        "w=model.w\n",
        "\n",
        "model.DP = pyo.Var(model.i, domain = pyo.NonNegativeReals, bounds = (0,DPt))\n",
        "DP=model.DP\n",
        "\n",
        "def Power_bound(model, i):\n",
        "  return (0, D['Pmax'][i])\n",
        "model.P = pyo.Var(model.i, domain = pyo.NonNegativeReals, bounds = Power_bound)\n",
        "P=model.P\n",
        "\n",
        "model.Np = pyo.Var(model.i, domain = pyo.NonNegativeIntegers, bounds = (0,3))\n",
        "Np=model.Np\n",
        "\n",
        "model.Ns = pyo.Var(model.i, domain = pyo.NonNegativeIntegers, bounds = (0,3))\n",
        "Ns=model.Ns\n",
        "\n",
        "model.z = pyo.Var(model.i, domain = pyo.Binary)\n",
        "z=model.z\n",
        "\n",
        "def objective(model):\n",
        "  return sum((D['Co'][i] + (D['Cp'][i] * P[i])) * Np[i] * Ns[i] * z[i] for i in model.i)\n",
        "model.obj = pyo.Objective(rule = objective, sense = pyo.minimize)\n",
        "\n",
        "def con1(model,i):\n",
        "  return sum(x[i] for i in model.i) == 1\n",
        "model.con1 = pyo.Constraint(rule = con1)\n",
        "\n",
        "def con2(model,i):\n",
        "  return P[i] - D['alpha'][i] * (w[i]/Wmax)**3 - D['beta'][i] * (w[i]/Wmax)**2 * v[i] - D['gamma'][i] * (w[i]/Wmax) * (v[i]**2) == 0\n",
        "model.con2 = pyo.Constraint(model.i, rule = con2)\n",
        "\n",
        "def con3(model,i):\n",
        "  return  DP[i] - D['a'][i] * (w[i]/Wmax)**2 - D['b'][i] * (w[i]/Wmax) * v[i] -   D['c'][i] * (v[i]**2) == 0\n",
        "model.con3 = pyo.Constraint(model.i, rule = con3)\n",
        "\n",
        "def con4(model,i):\n",
        "  return v[i] * Np[i] - x[i] * Vt == 0\n",
        "model.con4 = pyo.Constraint(model.i, rule = con4)\n",
        "\n",
        "def con5(model,i):\n",
        "  return  DPt * z[i] - DP[i] * Ns[i] == 0\n",
        "model.con5 = pyo.Constraint(model.i, rule = con5)\n",
        "\n",
        "def con6(model,i):\n",
        "  return  P[i] <= z[i] * D['Pmax'][i]\n",
        "model.con6 = pyo.Constraint(model.i, rule = con6)\n",
        "\n",
        "def con7(model,i):\n",
        "  return  DP[i] <= z[i] * DPt\n",
        "model.con7 = pyo.Constraint(model.i, rule = con7)\n",
        "\n",
        "def con8(model,i):\n",
        "  return  v[i] <= z[i] * Vt\n",
        "model.con8 = pyo.Constraint(model.i, rule = con8)\n",
        "\n",
        "def con9(model,i):\n",
        "  return  w[i] <= z[i] * Wmax\n",
        "model.con9 = pyo.Constraint(model.i, rule = con9)\n",
        "\n",
        "def con10(model,i):\n",
        "  return  Np[i] <= z[i] * Npmax\n",
        "model.con10 = pyo.Constraint(model.i, rule = con10)\n",
        "\n",
        "def con11(model,i):\n",
        "  return  Ns[i] <= z[i] * Nsmax\n",
        "model.con11 = pyo.Constraint(model.i, rule = con11)\n",
        "\n",
        "def con12(model,i):\n",
        "  return  x[i] <= z[i]\n",
        "model.con12 = pyo.Constraint(model.i, rule = con12)"
      ]
    },
    {
      "cell_type": "code",
      "execution_count": null,
      "metadata": {
        "id": "P39AIbBSxKtz"
      },
      "outputs": [],
      "source": [
        "import os\n",
        "os.environ['NEOS_EMAIL']=''\n",
        "solver = SolverManagerFactory('neos') #SolverManagerFactory should be imported instead of SolverFactory\n",
        "result = solver.solve(model,opt='couenne')\n",
        "print(result)\n",
        "print('objective function =', model.obj())\n",
        "for i in model.i:\n",
        "  print('Number of Parallel Lines at level',i,'is =',Np[i]())\n",
        "  print('Number of Pumps at each line at level',i,'is =',Ns[i]())\n"
      ]
    },
    {
      "cell_type": "code",
      "execution_count": null,
      "metadata": {
        "id": "DAou1htq0gW_"
      },
      "outputs": [],
      "source": []
    }
  ],
  "metadata": {
    "colab": {
      "provenance": []
    },
    "kernelspec": {
      "display_name": "Python 3",
      "name": "python3"
    },
    "language_info": {
      "name": "python"
    }
  },
  "nbformat": 4,
  "nbformat_minor": 0
}
