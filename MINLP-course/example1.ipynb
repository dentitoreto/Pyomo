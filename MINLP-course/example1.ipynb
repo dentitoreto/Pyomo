{
  "cells": [
    {
      "cell_type": "code",
      "execution_count": null,
      "metadata": {
        "id": "gW56lsr3VYZN"
      },
      "outputs": [],
      "source": [
        "!pip install pyomo\n",
        "import pyomo.environ as pyo\n",
        "from pyomo.opt import SolverManagerFactory"
      ]
    },
    {
      "cell_type": "code",
      "execution_count": 13,
      "metadata": {
        "id": "87nMrzsWyXKa"
      },
      "outputs": [],
      "source": [
        "model = pyo.ConcreteModel()\n",
        "\n",
        "model.x1 = pyo.Var(domain = pyo.NonNegativeIntegers)\n",
        "x1 = model.x1\n",
        "model.x2 = pyo.Var(domain = pyo.NonNegativeIntegers)\n",
        "x2 = model.x2\n",
        "\n",
        "model.obj = pyo.Objective(expr = 30*x1 + 35*x2 - 2*(x1**2) - 3*(x2**2), sense = pyo.maximize)\n",
        "\n",
        "model.con1 = pyo.Constraint(expr = x1 + x2 <= 20)\n",
        "model.con2 = pyo.Constraint(expr = x1**2 + 2*(x2**2) <= 250)"
      ]
    },
    {
      "cell_type": "code",
      "execution_count": 14,
      "metadata": {
        "colab": {
          "base_uri": "https://localhost:8080/"
        },
        "id": "P39AIbBSxKtz",
        "outputId": "ccb25575-bab9-4bf1-afd8-7cef0f52be02"
      },
      "outputs": [
        {
          "name": "stdout",
          "output_type": "stream",
          "text": [
            "\n",
            "Problem: \n",
            "- Lower bound: -inf\n",
            "  Upper bound: inf\n",
            "  Number of objectives: 1\n",
            "  Number of constraints: 2\n",
            "  Number of variables: 2\n",
            "  Sense: unknown\n",
            "Solver: \n",
            "- Status: ok\n",
            "  Message: MINLP-B&B (20100607)\\x3a Optimal solution found; 11 subproblems, objective = 214; Evals\\x3a obj = 313, constr = 313, grad = 60, Hes = 60\n",
            "  Termination condition: optimal\n",
            "  Id: 0\n",
            "Solution: \n",
            "- number of solutions: 0\n",
            "  number of solutions displayed: 0\n",
            "\n",
            "objective function = 214.0\n",
            "x1= 8.0\n",
            "x2= 6.0\n"
          ]
        }
      ],
      "source": [
        "import os\n",
        "os.environ['NEOS_EMAIL']=''\n",
        "solver = SolverManagerFactory('neos') #SolverManagerFactory should be imported instead of SolverFactory\n",
        "result = solver.solve(model,opt='minlp')\n",
        "print(result)\n",
        "print('objective function =', model.obj())\n",
        "print('x1=',x1())\n",
        "print('x2=',x2())\n"
      ]
    },
    {
      "cell_type": "code",
      "execution_count": null,
      "metadata": {
        "id": "DAou1htq0gW_"
      },
      "outputs": [],
      "source": []
    }
  ],
  "metadata": {
    "colab": {
      "provenance": []
    },
    "kernelspec": {
      "display_name": "Python 3",
      "name": "python3"
    },
    "language_info": {
      "name": "python"
    }
  },
  "nbformat": 4,
  "nbformat_minor": 0
}
