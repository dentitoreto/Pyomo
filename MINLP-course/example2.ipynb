{
  "cells": [
    {
      "cell_type": "code",
      "execution_count": null,
      "metadata": {
        "id": "gW56lsr3VYZN"
      },
      "outputs": [],
      "source": [
        "!pip install pyomo\n",
        "import pyomo.environ as pyo\n",
        "from pyomo.opt import SolverManagerFactory\n",
        "import pandas as pd\n",
        "import math"
      ]
    },
    {
      "cell_type": "code",
      "execution_count": 4,
      "metadata": {
        "id": "87nMrzsWyXKa"
      },
      "outputs": [],
      "source": [
        "model = pyo.ConcreteModel()\n",
        "\n",
        "model.i = pyo.RangeSet(1,15)\n",
        "\n",
        "W = pd.read_excel('S7P2_Data.xlsx', sheet_name = 'Sheet1', header=0, index_col=0, usecols='A:B')\n",
        "model.Pload = pyo.Param(initialize = 300)\n",
        "Pload=model.Pload\n",
        "\n",
        "model.Pmax = pyo.Param(initialize = 1000)\n",
        "Pmax=model.Pmax\n",
        "\n",
        "model.defml = pyo.Param(initialize = 6)\n",
        "defml=model.defml\n",
        "\n",
        "model.deflpm = pyo.Param(initialize = 1.25)\n",
        "deflpm=model.deflpm\n",
        "\n",
        "model.Lmax = pyo.Param(initialize = 14)\n",
        "Lmax=model.Lmax\n",
        "\n",
        "model.Dcm = pyo.Param(initialize = 3)\n",
        "Dcm=model.Dcm\n",
        "\n",
        "model.dWm = pyo.Param(initialize = 0.2)\n",
        "dWm=model.dWm\n",
        "\n",
        "model.S = pyo.Param(initialize = 234440)\n",
        "S=model.S\n",
        "\n",
        "model.G = pyo.Param(initialize = 11600000)\n",
        "G=model.G\n",
        "\n",
        "model.Dc = pyo.Var(domain = pyo.NonNegativeReals, bounds = (0.4,3))\n",
        "Dc=model.Dc\n",
        "\n",
        "model.dW = pyo.Var(domain = pyo.NonNegativeReals, bounds = (0.2,None))\n",
        "dW=model.dW\n",
        "\n",
        "model.defl = pyo.Var(domain = pyo.NonNegativeReals, bounds = (0.0018,6))\n",
        "defl=model.defl\n",
        "\n",
        "model.C = pyo.Var(domain = pyo.NonNegativeReals, bounds = (3,None))\n",
        "C=model.C\n",
        "\n",
        "model.K = pyo.Var(domain = pyo.NonNegativeReals, bounds = (None,560))\n",
        "K=model.K\n",
        "\n",
        "model.N = pyo.Var(domain = pyo.NonNegativeIntegers, bounds = (1,None))\n",
        "N=model.N\n",
        "\n",
        "model.x = pyo.Var(model.i, domain = pyo.Binary)\n",
        "x=model.x\n",
        "\n",
        "def objective_rule(model):\n",
        "  return math.pi*Dc*(dW**2)*(N+2)/4\n",
        "model.obj = pyo.Objective(rule = objective_rule, sense = pyo.minimize)\n",
        "\n",
        "def con1(model):\n",
        "  return Dc/dW == C\n",
        "model.con1 = pyo.Constraint(rule = con1)\n",
        "\n",
        "def con2(model):\n",
        "  return ((4*C - 1)/(4*C - 4)) + 0.615/C == K\n",
        "model.con2 = pyo.Constraint(rule = con2)\n",
        "\n",
        "def con3(model):\n",
        "  return (8*K*Pmax*Dc/(math.pi*dW**3)) <= S\n",
        "model.co3 = pyo.Constraint(rule = con3)\n",
        "\n",
        "def con4(model):\n",
        "  return 8*(Dc**3)*N/(G*(dW**2)) == defl\n",
        "model.con4 = pyo.Constraint(rule = con4)\n",
        "\n",
        "def con5(model):\n",
        "  return Pmax*defl + 1.05*(N + 2)*dW <= Lmax\n",
        "model.con5 = pyo.Constraint(rule = con5)\n",
        "\n",
        "def con6(model,i):\n",
        "  return sum(W['D'][i]*x[i] for i in model.i) == dW\n",
        "model.con6 = pyo.Constraint(rule = con6)\n",
        "\n",
        "def con7(model, i):\n",
        "  return sum(x[i] for i in model.i) == 1\n",
        "model.con7 = pyo.Constraint(rule = con7)"
      ]
    },
    {
      "cell_type": "code",
      "execution_count": null,
      "metadata": {
        "id": "P39AIbBSxKtz"
      },
      "outputs": [],
      "source": [
        "import os\n",
        "os.environ['NEOS_EMAIL']=''\n",
        "solver = SolverManagerFactory('neos') #SolverManagerFactory should be imported instead of SolverFactory\n",
        "result = solver.solve(model,opt='minlp')\n",
        "print(result)\n",
        "print('objective function =', model.obj())\n",
        "print('Number of coils=', N())\n",
        "print('coils spring diameter is=', Dc())\n",
        "print('wire diameter is=', dW())\n",
        "for i in model.i:\n",
        "  print('Wire Type',i,'is selected', x[i]() == 1)"
      ]
    },
    {
      "cell_type": "code",
      "execution_count": null,
      "metadata": {
        "id": "DAou1htq0gW_"
      },
      "outputs": [],
      "source": []
    }
  ],
  "metadata": {
    "colab": {
      "provenance": []
    },
    "kernelspec": {
      "display_name": "Python 3",
      "name": "python3"
    },
    "language_info": {
      "name": "python"
    }
  },
  "nbformat": 4,
  "nbformat_minor": 0
}
