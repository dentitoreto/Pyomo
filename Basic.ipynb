{
  "nbformat": 4,
  "nbformat_minor": 0,
  "metadata": {
    "colab": {
      "provenance": []
    },
    "kernelspec": {
      "name": "python3",
      "display_name": "Python 3"
    },
    "language_info": {
      "name": "python"
    }
  },
  "cells": [
    {
      "cell_type": "code",
      "execution_count": 3,
      "metadata": {
        "colab": {
          "base_uri": "https://localhost:8080/"
        },
        "id": "ACXdmzCE5vcr",
        "outputId": "420b9dc2-b703-427c-bcd6-07f49de49018"
      },
      "outputs": [
        {
          "output_type": "stream",
          "name": "stdout",
          "text": [
            "Collecting pyomo\n",
            "  Downloading Pyomo-6.6.1-cp310-cp310-manylinux_2_17_x86_64.manylinux2014_x86_64.whl (11.9 MB)\n",
            "\u001b[2K     \u001b[90m━━━━━━━━━━━━━━━━━━━━━━━━━━━━━━━━━━━━━━━━\u001b[0m \u001b[32m11.9/11.9 MB\u001b[0m \u001b[31m22.0 MB/s\u001b[0m eta \u001b[36m0:00:00\u001b[0m\n",
            "\u001b[?25hCollecting ply (from pyomo)\n",
            "  Downloading ply-3.11-py2.py3-none-any.whl (49 kB)\n",
            "\u001b[2K     \u001b[90m━━━━━━━━━━━━━━━━━━━━━━━━━━━━━━━━━━━━━━━━\u001b[0m \u001b[32m49.6/49.6 kB\u001b[0m \u001b[31m5.0 MB/s\u001b[0m eta \u001b[36m0:00:00\u001b[0m\n",
            "\u001b[?25hInstalling collected packages: ply, pyomo\n",
            "Successfully installed ply-3.11 pyomo-6.6.1\n",
            "Selecting previously unselected package libsuitesparseconfig5:amd64.\n",
            "(Reading database ... 120828 files and directories currently installed.)\n",
            "Preparing to unpack .../libsuitesparseconfig5_1%3a5.10.1+dfsg-4build1_amd64.deb ...\n",
            "Unpacking libsuitesparseconfig5:amd64 (1:5.10.1+dfsg-4build1) ...\n",
            "Selecting previously unselected package libamd2:amd64.\n",
            "Preparing to unpack .../libamd2_1%3a5.10.1+dfsg-4build1_amd64.deb ...\n",
            "Unpacking libamd2:amd64 (1:5.10.1+dfsg-4build1) ...\n",
            "Selecting previously unselected package libcolamd2:amd64.\n",
            "Preparing to unpack .../libcolamd2_1%3a5.10.1+dfsg-4build1_amd64.deb ...\n",
            "Unpacking libcolamd2:amd64 (1:5.10.1+dfsg-4build1) ...\n",
            "Selecting previously unselected package libglpk40:amd64.\n",
            "Preparing to unpack .../libglpk40_5.0-1_amd64.deb ...\n",
            "Unpacking libglpk40:amd64 (5.0-1) ...\n",
            "Selecting previously unselected package glpk-utils.\n",
            "Preparing to unpack .../glpk-utils_5.0-1_amd64.deb ...\n",
            "Unpacking glpk-utils (5.0-1) ...\n",
            "Setting up libsuitesparseconfig5:amd64 (1:5.10.1+dfsg-4build1) ...\n",
            "Setting up libamd2:amd64 (1:5.10.1+dfsg-4build1) ...\n",
            "Setting up libcolamd2:amd64 (1:5.10.1+dfsg-4build1) ...\n",
            "Setting up libglpk40:amd64 (5.0-1) ...\n",
            "Setting up glpk-utils (5.0-1) ...\n",
            "Processing triggers for man-db (2.10.2-1) ...\n",
            "Processing triggers for libc-bin (2.35-0ubuntu3.1) ...\n",
            "/sbin/ldconfig.real: /usr/local/lib/libtbbbind_2_0.so.3 is not a symbolic link\n",
            "\n",
            "/sbin/ldconfig.real: /usr/local/lib/libtbbmalloc.so.2 is not a symbolic link\n",
            "\n",
            "/sbin/ldconfig.real: /usr/local/lib/libtbbmalloc_proxy.so.2 is not a symbolic link\n",
            "\n",
            "/sbin/ldconfig.real: /usr/local/lib/libtbbbind.so.3 is not a symbolic link\n",
            "\n",
            "/sbin/ldconfig.real: /usr/local/lib/libtbbbind_2_5.so.3 is not a symbolic link\n",
            "\n",
            "/sbin/ldconfig.real: /usr/local/lib/libtbb.so.12 is not a symbolic link\n",
            "\n"
          ]
        }
      ],
      "source": [
        "!pip install pyomo\n",
        "!apt-get install -y -qq glpk-utils"
      ]
    },
    {
      "cell_type": "code",
      "source": [
        "import pyomo.environ as pyo\n",
        "from pyomo.opt import SolverFactory"
      ],
      "metadata": {
        "id": "_w88Mcvq79xg"
      },
      "execution_count": 4,
      "outputs": []
    },
    {
      "cell_type": "code",
      "source": [
        "# Example 1\n",
        "# Defining the model\n",
        "model1 = pyo.ConcreteModel()\n",
        "\n",
        "# Decision variables\n",
        "model1.x1 = pyo.Var(within = pyo.NonNegativeReals)\n",
        "x1 = model1.x1\n",
        "model1.x2 = pyo.Var(within = pyo.NonNegativeReals)\n",
        "x2 = model1.x2\n",
        "\n",
        "# Objective function\n",
        "model1.objective = pyo.Objective(expr = 4*x1 + 3*x2, sense = pyo.maximize)\n",
        "\n",
        "# Conctraints\n",
        "model1.constraint1 = pyo.Constraint(expr = x1 + x2 <= 40)\n",
        "model1.constraint2 = pyo.Constraint(expr = 2*x1 + x2 <= 60)\n",
        "\n",
        "optm = SolverFactory('glpk')\n",
        "results = optm.solve(model1)\n",
        "print(results)\n",
        "print('objective function = ', model1.objective())\n",
        "print('x1 variable = ', x1())\n",
        "print('x2 variable = ', x2())\n"
      ],
      "metadata": {
        "colab": {
          "base_uri": "https://localhost:8080/"
        },
        "id": "Bk8OoKPxAEi2",
        "outputId": "e96e3706-ac8a-44d6-f755-8ac8c6a95fb9"
      },
      "execution_count": 5,
      "outputs": [
        {
          "output_type": "stream",
          "name": "stdout",
          "text": [
            "\n",
            "Problem: \n",
            "- Name: unknown\n",
            "  Lower bound: 140.0\n",
            "  Upper bound: 140.0\n",
            "  Number of objectives: 1\n",
            "  Number of constraints: 2\n",
            "  Number of variables: 2\n",
            "  Number of nonzeros: 4\n",
            "  Sense: maximize\n",
            "Solver: \n",
            "- Status: ok\n",
            "  Termination condition: optimal\n",
            "  Statistics: \n",
            "    Branch and bound: \n",
            "      Number of bounded subproblems: 0\n",
            "      Number of created subproblems: 0\n",
            "  Error rc: 0\n",
            "  Time: 0.005213260650634766\n",
            "Solution: \n",
            "- number of solutions: 0\n",
            "  number of solutions displayed: 0\n",
            "\n",
            "objective function =  140.0\n",
            "x1 variable =  20.0\n",
            "x2 variable =  20.0\n"
          ]
        }
      ]
    },
    {
      "cell_type": "code",
      "source": [
        "# Example 2\n",
        "# Defining the model\n",
        "model2 = pyo.ConcreteModel()\n",
        "\n",
        "# Defining index set\n",
        "model2.N = pyo.Set(initialize = ['Desk','Table','Chair'])\n",
        "\n",
        "# Parameters\n",
        "model2.L = pyo.Param(model2.N, initialize = {'Desk':8,'Table':6,'Chair':1})\n",
        "L = model2.L\n",
        "model2.F = pyo.Param(model2.N, initialize = {'Desk':4,'Table':2,'Chair':1.5})\n",
        "F = model2.F\n",
        "model2.C = pyo.Param(model2.N, initialize = {'Desk':2,'Table':1.5,'Chair':0.5})\n",
        "C = model2.C\n",
        "model2.P = pyo.Param(model2.N, initialize = {'Desk':60,'Table':30,'Chair':20})\n",
        "P = model2.P\n",
        "\n",
        "# Decision variables\n",
        "model2.x = pyo.Var(model2.N, within = pyo.NonNegativeReals)\n",
        "\n",
        "# Objective function\n",
        "def objective_rule(model2):\n",
        "  return sum(P[i]*model2.x[i] for i in model2.N)\n",
        "\n",
        "model2.objective = pyo.Objective(rule = objective_rule, sense = pyo.maximize)\n",
        "\n",
        "# Constraints\n",
        "def constraint1(model2,i):\n",
        "  return sum(L[i]*model2.x[i] for i in model2.N) <= 48\n",
        "\n",
        "model2.const1 = pyo.Constraint(rule = constraint1 )\n",
        "\n",
        "def constraint2(model2,i):\n",
        "  return sum(F[i]*model2.x[i] for i in model2.N) <= 20\n",
        "\n",
        "model2.const2 = pyo.Constraint(rule = constraint2 )\n",
        "\n",
        "def constraint3(model2,i):\n",
        "  return sum(C[i]*model2.x[i] for i in model2.N) <= 8\n",
        "\n",
        "model2.const3 = pyo.Constraint(rule = constraint3 )\n",
        "\n",
        "def constraint4(model2,i):\n",
        "  return model2.x['Table'] <= 5\n",
        "model2.const4 = pyo.Constraint(rule = constraint4)\n",
        "\n",
        "# Solving the model\n",
        "solver = SolverFactory('glpk')\n",
        "result = solver.solve(model2)\n",
        "\n",
        "# Showing the values of solution\n",
        "print(result)\n",
        "print('Objetive function =', model2.objective())\n",
        "for i in model2.N:\n",
        "  print('Number of',i, 'produced =', model2.x[i]())\n",
        "\n"
      ],
      "metadata": {
        "id": "ufk6Ag7MD3SM",
        "colab": {
          "base_uri": "https://localhost:8080/"
        },
        "outputId": "dc504206-f62e-47e3-f281-615fabd29e59"
      },
      "execution_count": 14,
      "outputs": [
        {
          "output_type": "stream",
          "name": "stdout",
          "text": [
            "\n",
            "Problem: \n",
            "- Name: unknown\n",
            "  Lower bound: 280.0\n",
            "  Upper bound: 280.0\n",
            "  Number of objectives: 1\n",
            "  Number of constraints: 4\n",
            "  Number of variables: 3\n",
            "  Number of nonzeros: 10\n",
            "  Sense: maximize\n",
            "Solver: \n",
            "- Status: ok\n",
            "  Termination condition: optimal\n",
            "  Statistics: \n",
            "    Branch and bound: \n",
            "      Number of bounded subproblems: 0\n",
            "      Number of created subproblems: 0\n",
            "  Error rc: 0\n",
            "  Time: 0.006577014923095703\n",
            "Solution: \n",
            "- number of solutions: 0\n",
            "  number of solutions displayed: 0\n",
            "\n",
            "Objetive function = 280.0\n",
            "Number of Desk produced = 2.0\n",
            "Number of Table produced = 0.0\n",
            "Number of Chair produced = 8.0\n"
          ]
        }
      ]
    },
    {
      "cell_type": "code",
      "source": [],
      "metadata": {
        "id": "mWH-_WHbHeOI"
      },
      "execution_count": null,
      "outputs": []
    }
  ]
}