{
  "nbformat": 4,
  "nbformat_minor": 0,
  "metadata": {
    "colab": {
      "provenance": []
    },
    "kernelspec": {
      "name": "python3",
      "display_name": "Python 3"
    },
    "language_info": {
      "name": "python"
    }
  },
  "cells": [
    {
      "cell_type": "code",
      "execution_count": null,
      "metadata": {
        "colab": {
          "base_uri": "https://localhost:8080/"
        },
        "id": "m-xWsqYhOV8Q",
        "outputId": "59b50be1-6806-4280-bbc0-0b1915bcc956"
      },
      "outputs": [
        {
          "output_type": "stream",
          "name": "stdout",
          "text": [
            "Collecting pyomo\n",
            "  Downloading Pyomo-6.6.1-cp310-cp310-manylinux_2_17_x86_64.manylinux2014_x86_64.whl (11.9 MB)\n",
            "\u001b[2K     \u001b[90m━━━━━━━━━━━━━━━━━━━━━━━━━━━━━━━━━━━━━━━━\u001b[0m \u001b[32m11.9/11.9 MB\u001b[0m \u001b[31m30.0 MB/s\u001b[0m eta \u001b[36m0:00:00\u001b[0m\n",
            "\u001b[?25hCollecting ply (from pyomo)\n",
            "  Downloading ply-3.11-py2.py3-none-any.whl (49 kB)\n",
            "\u001b[2K     \u001b[90m━━━━━━━━━━━━━━━━━━━━━━━━━━━━━━━━━━━━━━━━\u001b[0m \u001b[32m49.6/49.6 kB\u001b[0m \u001b[31m4.2 MB/s\u001b[0m eta \u001b[36m0:00:00\u001b[0m\n",
            "\u001b[?25hInstalling collected packages: ply, pyomo\n",
            "Successfully installed ply-3.11 pyomo-6.6.1\n",
            "Selecting previously unselected package libsuitesparseconfig5:amd64.\n",
            "(Reading database ... 120828 files and directories currently installed.)\n",
            "Preparing to unpack .../libsuitesparseconfig5_1%3a5.10.1+dfsg-4build1_amd64.deb ...\n",
            "Unpacking libsuitesparseconfig5:amd64 (1:5.10.1+dfsg-4build1) ...\n",
            "Selecting previously unselected package libamd2:amd64.\n",
            "Preparing to unpack .../libamd2_1%3a5.10.1+dfsg-4build1_amd64.deb ...\n",
            "Unpacking libamd2:amd64 (1:5.10.1+dfsg-4build1) ...\n",
            "Selecting previously unselected package libcolamd2:amd64.\n",
            "Preparing to unpack .../libcolamd2_1%3a5.10.1+dfsg-4build1_amd64.deb ...\n",
            "Unpacking libcolamd2:amd64 (1:5.10.1+dfsg-4build1) ...\n",
            "Selecting previously unselected package libglpk40:amd64.\n",
            "Preparing to unpack .../libglpk40_5.0-1_amd64.deb ...\n",
            "Unpacking libglpk40:amd64 (5.0-1) ...\n",
            "Selecting previously unselected package glpk-utils.\n",
            "Preparing to unpack .../glpk-utils_5.0-1_amd64.deb ...\n",
            "Unpacking glpk-utils (5.0-1) ...\n",
            "Setting up libsuitesparseconfig5:amd64 (1:5.10.1+dfsg-4build1) ...\n",
            "Setting up libamd2:amd64 (1:5.10.1+dfsg-4build1) ...\n",
            "Setting up libcolamd2:amd64 (1:5.10.1+dfsg-4build1) ...\n",
            "Setting up libglpk40:amd64 (5.0-1) ...\n",
            "Setting up glpk-utils (5.0-1) ...\n",
            "Processing triggers for man-db (2.10.2-1) ...\n",
            "Processing triggers for libc-bin (2.35-0ubuntu3.1) ...\n",
            "/sbin/ldconfig.real: /usr/local/lib/libtbbbind_2_0.so.3 is not a symbolic link\n",
            "\n",
            "/sbin/ldconfig.real: /usr/local/lib/libtbbmalloc.so.2 is not a symbolic link\n",
            "\n",
            "/sbin/ldconfig.real: /usr/local/lib/libtbbmalloc_proxy.so.2 is not a symbolic link\n",
            "\n",
            "/sbin/ldconfig.real: /usr/local/lib/libtbbbind.so.3 is not a symbolic link\n",
            "\n",
            "/sbin/ldconfig.real: /usr/local/lib/libtbbbind_2_5.so.3 is not a symbolic link\n",
            "\n",
            "/sbin/ldconfig.real: /usr/local/lib/libtbb.so.12 is not a symbolic link\n",
            "\n"
          ]
        }
      ],
      "source": [
        "!pip install pyomo\n",
        "!apt-get install -y -qq glpk-utils"
      ]
    },
    {
      "cell_type": "code",
      "source": [
        "import pyomo.environ as pyo\n",
        "from pyomo.opt import SolverFactory"
      ],
      "metadata": {
        "id": "Hlduj9LkiEO3"
      },
      "execution_count": null,
      "outputs": []
    },
    {
      "cell_type": "code",
      "source": [
        "# Defining concrete model object\n",
        "model = pyo.ConcreteModel()\n",
        "\n",
        "# Sets\n",
        "model.i = pyo.RangeSet(1,3)\n",
        "model.j = pyo.RangeSet(1,4)\n",
        "\n",
        "# Parameters defined with sets\n",
        "model.S = pyo.Param(model.i, initialize = {1:35,2:50,3:40})\n",
        "S = model.S\n",
        "model.D = pyo.Param(model.j, initialize = {1:45,2:20,3:30,4:30})\n",
        "D = model.D\n",
        "model.P = pyo.Param(model.i,model.j, initialize ={(1,1):8,(1,2):6,(1,3):10,(1,4):9,(2,1):9,(2,2):12,(2,3):13,(2,4):7,(3,1):14,(3,2):9,(3,3):16,(3,4):5})\n",
        "P = model.P\n",
        "\n",
        "# Variables\n",
        "model.x = pyo.Var(model.i,model.j, within = pyo.NonNegativeReals)\n",
        "x = model.x\n",
        "\n",
        "# Objective function\n",
        "def objective_rule(model):\n",
        "  return sum(sum(P[i,j]*x[i,j] for i in model.i) for j in model.j)\n",
        "model.objec = pyo.Objective(rule = objective_rule)\n",
        "\n",
        "# Constraint\n",
        "# there is better way to formulate i index in function, with for loop, not like this hardcoding...\n",
        "def constraint1(model,i):\n",
        "  return sum(x[1,j] for j in model.j) <= S[1]\n",
        "model.const1 = pyo.Constraint(rule = constraint1)\n",
        "\n",
        "def constraint2(model,i):\n",
        "  return sum(x[2,j] for j in model.j) <= S[2]\n",
        "model.const2 = pyo.Constraint(rule = constraint2)\n",
        "\n",
        "def constraint3(model,i):\n",
        "  return sum(x[3,j] for j in model.j) <= S[3]\n",
        "model.const3 = pyo.Constraint(rule = constraint3)\n",
        "\n",
        "def constraint4(model,j):\n",
        "  return sum(x[i,1] for i in model.i) >= D[1]\n",
        "def constraint5(model,j):\n",
        "  return sum(x[i,2] for i in model.i) >= D[2]\n",
        "model.const5 = pyo.Constraint(rule = constraint5)\n",
        "\n",
        "def constraint6(model,j):\n",
        "  return sum(x[i,3] for i in model.i) >= D[3]\n",
        "model.const6 = pyo.Constraint(rule = constraint6)\n",
        "\n",
        "def constraint7(model,j):\n",
        "  return sum(x[i,4] for i in model.i) >= D[4]\n",
        "model.const7 = pyo.Constraint(rule = constraint7)\n",
        "\n",
        "Solver = SolverFactory('glpk')\n",
        "results = Solver.solve(model)\n",
        "\n",
        "# Show results\n",
        "print(results)\n",
        "print('Objective function =',model.objec())\n",
        "for i in model.i:\n",
        "  for j in model.j:\n",
        "    print('Electicity sent from plant', i, 'to the city', j,'is', x[i,j]())"
      ],
      "metadata": {
        "id": "Tu4h5u7BiX7l",
        "colab": {
          "base_uri": "https://localhost:8080/"
        },
        "outputId": "095a23a0-a219-4653-ea6b-f4de415293ee"
      },
      "execution_count": 15,
      "outputs": [
        {
          "output_type": "stream",
          "name": "stdout",
          "text": [
            "\n",
            "Problem: \n",
            "- Name: unknown\n",
            "  Lower bound: 615.0\n",
            "  Upper bound: 615.0\n",
            "  Number of objectives: 1\n",
            "  Number of constraints: 6\n",
            "  Number of variables: 12\n",
            "  Number of nonzeros: 21\n",
            "  Sense: minimize\n",
            "Solver: \n",
            "- Status: ok\n",
            "  Termination condition: optimal\n",
            "  Statistics: \n",
            "    Branch and bound: \n",
            "      Number of bounded subproblems: 0\n",
            "      Number of created subproblems: 0\n",
            "  Error rc: 0\n",
            "  Time: 0.0036759376525878906\n",
            "Solution: \n",
            "- number of solutions: 0\n",
            "  number of solutions displayed: 0\n",
            "\n",
            "Objective function = 615.0\n",
            "Electicity sent from plant 1 to the city 1 is 0.0\n",
            "Electicity sent from plant 1 to the city 2 is 20.0\n",
            "Electicity sent from plant 1 to the city 3 is 15.0\n",
            "Electicity sent from plant 1 to the city 4 is 0.0\n",
            "Electicity sent from plant 2 to the city 1 is 0.0\n",
            "Electicity sent from plant 2 to the city 2 is 0.0\n",
            "Electicity sent from plant 2 to the city 3 is 15.0\n",
            "Electicity sent from plant 2 to the city 4 is 0.0\n",
            "Electicity sent from plant 3 to the city 1 is 0.0\n",
            "Electicity sent from plant 3 to the city 2 is 0.0\n",
            "Electicity sent from plant 3 to the city 3 is 0.0\n",
            "Electicity sent from plant 3 to the city 4 is 30.0\n"
          ]
        }
      ]
    },
    {
      "cell_type": "code",
      "source": [],
      "metadata": {
        "id": "S61KHRm-n4cG"
      },
      "execution_count": null,
      "outputs": []
    }
  ]
}