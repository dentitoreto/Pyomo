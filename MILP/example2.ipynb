{
  "nbformat": 4,
  "nbformat_minor": 0,
  "metadata": {
    "colab": {
      "provenance": []
    },
    "kernelspec": {
      "name": "python3",
      "display_name": "Python 3"
    },
    "language_info": {
      "name": "python"
    }
  },
  "cells": [
    {
      "cell_type": "code",
      "execution_count": 2,
      "metadata": {
        "colab": {
          "base_uri": "https://localhost:8080/"
        },
        "id": "kCB2JwZynec1",
        "outputId": "3bef9d00-a13b-49c1-812d-07749c2f5078"
      },
      "outputs": [
        {
          "output_type": "stream",
          "name": "stdout",
          "text": [
            "Collecting pyomo\n",
            "  Downloading Pyomo-6.6.1-cp310-cp310-manylinux_2_17_x86_64.manylinux2014_x86_64.whl (11.9 MB)\n",
            "\u001b[2K     \u001b[90m━━━━━━━━━━━━━━━━━━━━━━━━━━━━━━━━━━━━━━━━\u001b[0m \u001b[32m11.9/11.9 MB\u001b[0m \u001b[31m27.8 MB/s\u001b[0m eta \u001b[36m0:00:00\u001b[0m\n",
            "\u001b[?25hCollecting ply (from pyomo)\n",
            "  Downloading ply-3.11-py2.py3-none-any.whl (49 kB)\n",
            "\u001b[2K     \u001b[90m━━━━━━━━━━━━━━━━━━━━━━━━━━━━━━━━━━━━━━━━\u001b[0m \u001b[32m49.6/49.6 kB\u001b[0m \u001b[31m4.8 MB/s\u001b[0m eta \u001b[36m0:00:00\u001b[0m\n",
            "\u001b[?25hInstalling collected packages: ply, pyomo\n",
            "Successfully installed ply-3.11 pyomo-6.6.1\n",
            "\u001b[2K     \u001b[90m━━━━━━━━━━━━━━━━━━━━━━━━━━━━━━━━━━━━━━━━\u001b[0m \u001b[32m44.2/44.2 MB\u001b[0m \u001b[31m15.8 MB/s\u001b[0m eta \u001b[36m0:00:00\u001b[0m\n",
            "\u001b[?25h"
          ]
        }
      ],
      "source": [
        "!pip install pyomo\n",
        "!pip install cplex -q"
      ]
    },
    {
      "cell_type": "code",
      "source": [
        "import pyomo.environ as pyo\n",
        "from pyomo.opt import SolverFactory"
      ],
      "metadata": {
        "id": "TrCFwjFso2Vv"
      },
      "execution_count": 3,
      "outputs": []
    },
    {
      "cell_type": "code",
      "source": [
        "from pyomo.core.base.set_types import NonNegativeIntegers\n",
        "model = pyo.ConcreteModel()\n",
        "\n",
        "model.lines = pyo.Set(initialize = ['pl1','pl2'])\n",
        "model.seats = pyo.Set(initialize = ['type1','type2','type3'])\n",
        "\n",
        "model.S = pyo.Param(model.lines, model.seats, initialize = {('pl1','type1'):20,('pl1','type2'):30,('pl1','type3'):40,\n",
        "                                                            ('pl2','type1'):50,('pl2','type2'):35,('pl2','type3'):45})\n",
        "\n",
        "model.P = pyo.Param(model.lines, initialize ={'pl1':1000,'pl2':2000})\n",
        "model.Sa = pyo.Param(model.lines, initialize ={'pl1':400,'pl2':600})\n",
        "P = model.P\n",
        "Sa = model.Sa\n",
        "S = model.S\n",
        "\n",
        "model.x = pyo.Var(model.lines, domain = pyo.NonNegativeIntegers)\n",
        "x = model.x\n",
        "model.y = pyo.Var(model.lines, domain = pyo.Binary)\n",
        "y = model.y\n",
        "\n",
        "\n",
        "# think there's a mistake to have j like this define in function, have better way to code this constraints\n",
        "def objective_rule(model):\n",
        "  return sum(P[i]*y[i] for i in model.lines) + sum(Sa[i]*x[i] for i in model.lines)\n",
        "model.objective = pyo.Objective(rule = objective_rule)\n",
        "\n",
        "def const1(model,j):\n",
        "  return sum(S[i,'type1']*x[i] for i in model.lines) >= 120\n",
        "model.con1 = pyo.Constraint(model.lines, rule = const1)\n",
        "\n",
        "def const2(model,j):\n",
        "  return sum(S[i,'type2']*x[i] for i in model.lines) >= 150\n",
        "model.con2 = pyo.Constraint(model.lines, rule = const2)\n",
        "\n",
        "def const3(model,j):\n",
        "  return sum(S[i,'type3']*x[i] for i in model.lines) >= 200\n",
        "model.con3 = pyo.Constraint(model.lines, rule = const3)\n",
        "\n",
        "def const4(model,i):\n",
        "  return x[i] <= 30 * y[i]\n",
        "model.con4 = pyo.Constraint(model.lines, rule = const4)\n",
        "\n",
        "solver = SolverFactory('cplex_direct')\n",
        "results = solver.solve(model)\n",
        "\n",
        "print(results)\n",
        "print('Objective function =',model.objective())\n",
        "for i in model.lines:\n",
        "  print('Number of workers in line',i,'is equal of',x[i]())\n",
        "\n"
      ],
      "metadata": {
        "colab": {
          "base_uri": "https://localhost:8080/"
        },
        "id": "V5cAB91WpTd2",
        "outputId": "62984faf-6c77-468a-8daa-67d43c03b3b0"
      },
      "execution_count": 9,
      "outputs": [
        {
          "output_type": "stream",
          "name": "stdout",
          "text": [
            "\n",
            "Problem: \n",
            "- Name: \n",
            "  Lower bound: 3400.0\n",
            "  Upper bound: 3400.0\n",
            "  Number of objectives: 1\n",
            "  Number of constraints: 8\n",
            "  Number of variables: 4\n",
            "  Number of binary variables: 2\n",
            "  Number of integer variables: 2\n",
            "  Number of continuous variables: 0\n",
            "  Number of nonzeros: None\n",
            "  Sense: 1\n",
            "Solver: \n",
            "- Name: CPLEX 22.1.1.0\n",
            "  Status: ok\n",
            "  Wallclock time: 0.00441741943359375\n",
            "  Termination condition: optimal\n",
            "Solution: \n",
            "- number of solutions: 0\n",
            "  number of solutions displayed: 0\n",
            "\n",
            "Objective function = 3400.0\n",
            "Number of workers in line pl1 is equal of 6.0\n",
            "Number of workers in line pl2 is equal of 0.0\n"
          ]
        }
      ]
    },
    {
      "cell_type": "code",
      "source": [],
      "metadata": {
        "id": "2NDYt_-dpAiC"
      },
      "execution_count": null,
      "outputs": []
    }
  ]
}