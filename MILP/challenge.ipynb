{
  "nbformat": 4,
  "nbformat_minor": 0,
  "metadata": {
    "colab": {
      "provenance": []
    },
    "kernelspec": {
      "name": "python3",
      "display_name": "Python 3"
    },
    "language_info": {
      "name": "python"
    }
  },
  "cells": [
    {
      "cell_type": "code",
      "execution_count": 3,
      "metadata": {
        "colab": {
          "base_uri": "https://localhost:8080/"
        },
        "id": "Pbx-Ad4Y6TOB",
        "outputId": "199381ae-1bfb-4efd-d2e9-257af97be546"
      },
      "outputs": [
        {
          "output_type": "stream",
          "name": "stdout",
          "text": [
            "Requirement already satisfied: pyomo in /usr/local/lib/python3.10/dist-packages (6.6.1)\n",
            "Requirement already satisfied: ply in /usr/local/lib/python3.10/dist-packages (from pyomo) (3.11)\n"
          ]
        }
      ],
      "source": [
        "!pip install pyomo\n",
        "!pip install cplex -q\n",
        "import pyomo.environ as pyo\n",
        "from pyomo.opt import SolverFactory\n",
        "import pandas as pd"
      ]
    },
    {
      "cell_type": "code",
      "source": [
        "model = pyo.ConcreteModel()\n",
        "\n",
        "model.i = pyo.Set(initialize = ['City1','City2','City3','City4','City5'])\n",
        "model.j = pyo.Set(initialize = ['City1','City2','City3','City4','City5'])\n",
        "\n",
        "model.ii = pyo.Set(initialize = ['City2','City3','City4','City5'])\n",
        "\n",
        "# defining parameters using pandas to load data\n",
        "C = pd.read_excel('S5P3_Data.xlsx',sheet_name='TSP', header=0, index_col=0, usecols = 'A:F', nrows = 5)\n",
        "\n",
        "model.x = pyo.Var(model.i, model.j, domain = pyo.Binary)\n",
        "x = model.x\n",
        "model.u = pyo.Var(model.i, domain = pyo.NonNegativeReals)\n",
        "u = model.u\n",
        "\n",
        "def objective_rule(model):\n",
        "  return sum(sum(C[i][j] * x[i,j] for i in model.i) for j in model.j)\n",
        "model.obj = pyo.Objective(rule = objective_rule)\n",
        "\n",
        "def con1(model,j):\n",
        "  return sum(x[i,j] for i in model.i) == 1\n",
        "model.con1  = pyo.Constraint(model.i, rule = con1)\n",
        "\n",
        "def con2(model,i):\n",
        "  return sum(x[i,j] for j in model.j) == 1\n",
        "model.con2  = pyo.Constraint(model.j, rule = con2)\n",
        "\n",
        "def con3(model,i,j):\n",
        "  if i != j :\n",
        "    return u[i] - u[j] + 5 * x[i,j] <= 4\n",
        "  else:\n",
        "    return u[i] - u[i] == 0\n",
        "model.con3 = pyo.Constraint(model.ii,model.ii, rule = con3)\n",
        "\n",
        "opt = SolverFactory('cplex_direct')\n",
        "results = opt.solve(model)\n",
        "\n",
        "print(results)\n",
        "print(\"Objective function\", model.obj())\n",
        "for i in model.i:\n",
        "  for j in model.j:\n",
        "    print('salesman goes from',i,'to the',j,'=',x[i,j]())\n",
        "\n"
      ],
      "metadata": {
        "id": "ThqFxTHt8_7d",
        "colab": {
          "base_uri": "https://localhost:8080/"
        },
        "outputId": "f9dea049-74cd-428f-d7e4-78ed3991966f"
      },
      "execution_count": 6,
      "outputs": [
        {
          "output_type": "stream",
          "name": "stdout",
          "text": [
            "\n",
            "Problem: \n",
            "- Name: \n",
            "  Lower bound: 668.0\n",
            "  Upper bound: 668.0\n",
            "  Number of objectives: 1\n",
            "  Number of constraints: 26\n",
            "  Number of variables: 30\n",
            "  Number of binary variables: 25\n",
            "  Number of integer variables: 0\n",
            "  Number of continuous variables: 5\n",
            "  Number of nonzeros: None\n",
            "  Sense: 1\n",
            "Solver: \n",
            "- Name: CPLEX 22.1.1.0\n",
            "  Status: ok\n",
            "  Wallclock time: 0.0058367252349853516\n",
            "  Termination condition: optimal\n",
            "Solution: \n",
            "- number of solutions: 0\n",
            "  number of solutions displayed: 0\n",
            "\n",
            "Objective function 668.0\n",
            "salesman goes from City1 to the City1 = -0.0\n",
            "salesman goes from City1 to the City2 = 0.0\n",
            "salesman goes from City1 to the City3 = 1.0\n",
            "salesman goes from City1 to the City4 = -0.0\n",
            "salesman goes from City1 to the City5 = 0.0\n",
            "salesman goes from City2 to the City1 = -0.0\n",
            "salesman goes from City2 to the City2 = -0.0\n",
            "salesman goes from City2 to the City3 = -0.0\n",
            "salesman goes from City2 to the City4 = 0.0\n",
            "salesman goes from City2 to the City5 = 1.0\n",
            "salesman goes from City3 to the City1 = 0.0\n",
            "salesman goes from City3 to the City2 = -0.0\n",
            "salesman goes from City3 to the City3 = -0.0\n",
            "salesman goes from City3 to the City4 = 1.0\n",
            "salesman goes from City3 to the City5 = -0.0\n",
            "salesman goes from City4 to the City1 = 0.0\n",
            "salesman goes from City4 to the City2 = 1.0\n",
            "salesman goes from City4 to the City3 = 0.0\n",
            "salesman goes from City4 to the City4 = -0.0\n",
            "salesman goes from City4 to the City5 = -0.0\n",
            "salesman goes from City5 to the City1 = 1.0\n",
            "salesman goes from City5 to the City2 = 0.0\n",
            "salesman goes from City5 to the City3 = -0.0\n",
            "salesman goes from City5 to the City4 = -0.0\n",
            "salesman goes from City5 to the City5 = -0.0\n"
          ]
        }
      ]
    },
    {
      "cell_type": "code",
      "source": [],
      "metadata": {
        "id": "Shxhm7OKTHau"
      },
      "execution_count": null,
      "outputs": []
    }
  ]
}