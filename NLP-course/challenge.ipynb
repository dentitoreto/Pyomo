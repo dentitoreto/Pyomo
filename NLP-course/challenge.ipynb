{
  "nbformat": 4,
  "nbformat_minor": 0,
  "metadata": {
    "colab": {
      "provenance": []
    },
    "kernelspec": {
      "name": "python3",
      "display_name": "Python 3"
    },
    "language_info": {
      "name": "python"
    }
  },
  "cells": [
    {
      "cell_type": "code",
      "execution_count": 7,
      "metadata": {
        "id": "gW56lsr3VYZN"
      },
      "outputs": [],
      "source": [
        "!pip install pyomo\n",
        "!wget -N -q \"https://matematica.unipv.it/gualandi/solvers/ipopt-linux64.zip\"\n",
        "!unzip -o -q ipopt-linux64\n",
        "import pyomo.environ as pyo\n",
        "from pyomo.opt import SolverFactory"
      ]
    },
    {
      "cell_type": "code",
      "source": [
        "model = pyo.ConcreteModel()\n",
        "\n",
        "model.i = pyo.Set(initialize = ['V_oil','oil1','oil_0.4'])\n",
        "model.j = pyo.Set(initialize = model.i)\n",
        "\n",
        "model.LU = pyo.Param(model.i, initialize = {'V_oil':0.75,'oil1':1,'oil_0.4':1})\n",
        "model.SP = pyo.Param(model.i, initialize = {'V_oil':4.45,'oil1':3.03,'oil_0.4':3.03})\n",
        "model.OC = pyo.Param(model.i, initialize = {'V_oil':3.45,'oil1':2.7,'oil_0.4':2.8})\n",
        "model.PC = pyo.Param(model.i, initialize = {'V_oil':0.75,'oil1':0.15,'oil_0.4':0.15})\n",
        "model.SC = pyo.Param(model.i, initialize = {'V_oil':0.02,'oil1':0.02,'oil_0.4':0.02})\n",
        "model.Y =  pyo.Param(model.i, initialize = {'V_oil':0.08,'oil1':0.04,'oil_0.4':0.04})\n",
        "model.RA = pyo.Param(model.i, initialize = {'V_oil':350000,'oil1':750000,'oil_0.4':750000})\n",
        "model.MK = pyo.Param(model.i, initialize = {'V_oil':175000,'oil1':900000,'oil_0.4':750000})\n",
        "model.PS = pyo.Param(model.i, initialize = {'V_oil':35000,'oil1':100000,'oil_0.4':100000})\n",
        "\n",
        "model.x = pyo.Var(model.i,domain = pyo.NonNegativeReals)\n",
        "x = model.x\n",
        "\n",
        "def objective_rule(model,i):\n",
        "  return sum(x[i] * model.LU[i] * (model.SP[i] - (x[i] * model.LU[i]/(100*model.RA[i]))) for i in model.i)- sum(x[i] * model.LU[i] * model.OC[i] for i in model.i) - sum(x[i] * model.PC[i] for i in model.i) - sum(x[i] * model.LU[i] * model.SC[i] * (1 + model.Y[i] * (x[i] * model.LU[i] / sum(x[j] * model.LU[j] for j in model.j))) for i in model.i)\n",
        "model.obj = pyo.Objective(rule = objective_rule, sense = pyo.maximize)\n",
        "\n",
        "model.obj = pyo.Objective(rule = objective_rule, sense = pyo.maximize)\n",
        "\n",
        "def con1(model,i):\n",
        "  return sum(x[i] / model.PS[i] for i in model.i) <= 20\n",
        "model.con1 = pyo.Constraint(rule = con1)\n",
        "\n",
        "\n",
        "def con2(model):\n",
        "  return x['V_oil'] / model.LU['V_oil']  >= model.MK['V_oil']\n",
        "model.con2 = pyo.Constraint(rule = con2)\n",
        "\n",
        "def con3(model):\n",
        "  return x['oil1'] / model.LU['oil1']  >= model.MK['oil1']\n",
        "model.con3 = pyo.Constraint(rule = con3)\n",
        "\n",
        "def con4(model):\n",
        "  return x['oil_0.4'] / model.LU['oil_0.4']  >= model.MK['oil_0.4']\n",
        "model.con4 = pyo.Constraint(rule = con4)\n",
        "\n",
        "\n",
        "\n",
        "solver = SolverFactory('ipopt', executable = '/content/ipopt')\n",
        "results = solver.solve(model)\n",
        "print(results)\n",
        "print('objective function', model.obj())\n",
        "for i in model.i:\n",
        "  print('units of', i, 'produced is', x[i]())\n",
        "\n"
      ],
      "metadata": {
        "id": "muc4sDi6domN",
        "colab": {
          "base_uri": "https://localhost:8080/"
        },
        "outputId": "13088a9c-8c31-4323-ab11-2d0427199d2e"
      },
      "execution_count": 10,
      "outputs": [
        {
          "output_type": "stream",
          "name": "stderr",
          "text": [
            "WARNING:pyomo.core:Implicitly replacing the Component attribute obj (type=<class 'pyomo.core.base.objective.ScalarObjective'>) on block unknown with a new Component (type=<class 'pyomo.core.base.objective.ScalarObjective'>).\n",
            "This is usually indicative of a modelling error.\n",
            "To avoid this warning, use block.del_component() and block.add_component().\n",
            "WARNING:pyomo.core:Loading a SolverResults object with a warning status into model.name=\"unknown\";\n",
            "  - termination condition: infeasible\n",
            "  - message from solver: Ipopt 3.12.13\\x3a Converged to a locally infeasible point. Problem may be infeasible.\n"
          ]
        },
        {
          "output_type": "stream",
          "name": "stdout",
          "text": [
            "\n",
            "Problem: \n",
            "- Lower bound: -inf\n",
            "  Upper bound: inf\n",
            "  Number of objectives: 1\n",
            "  Number of constraints: 4\n",
            "  Number of variables: 3\n",
            "  Sense: unknown\n",
            "Solver: \n",
            "- Status: warning\n",
            "  Message: Ipopt 3.12.13\\x3a Converged to a locally infeasible point. Problem may be infeasible.\n",
            "  Termination condition: infeasible\n",
            "  Id: 200\n",
            "  Error rc: 0\n",
            "  Time: 0.023582935333251953\n",
            "Solution: \n",
            "- number of solutions: 0\n",
            "  number of solutions displayed: 0\n",
            "\n",
            "objective function 167817.5364704945\n",
            "units of V_oil produced is 131249.99868753183\n",
            "units of oil1 produced is 899999.991000091\n",
            "units of oil_0.4 produced is 749999.992500091\n"
          ]
        }
      ]
    },
    {
      "cell_type": "code",
      "source": [],
      "metadata": {
        "id": "Qe2H-b04iYAZ"
      },
      "execution_count": null,
      "outputs": []
    }
  ]
}