{
  "nbformat": 4,
  "nbformat_minor": 0,
  "metadata": {
    "colab": {
      "provenance": []
    },
    "kernelspec": {
      "name": "python3",
      "display_name": "Python 3"
    },
    "language_info": {
      "name": "python"
    }
  },
  "cells": [
    {
      "cell_type": "code",
      "execution_count": 1,
      "metadata": {
        "colab": {
          "base_uri": "https://localhost:8080/"
        },
        "id": "gW56lsr3VYZN",
        "outputId": "0bc40674-3499-41b9-95e0-8a74e9c42891"
      },
      "outputs": [
        {
          "output_type": "stream",
          "name": "stdout",
          "text": [
            "Collecting pyomo\n",
            "  Downloading Pyomo-6.6.1-cp310-cp310-manylinux_2_17_x86_64.manylinux2014_x86_64.whl (11.9 MB)\n",
            "\u001b[2K     \u001b[90m━━━━━━━━━━━━━━━━━━━━━━━━━━━━━━━━━━━━━━━━\u001b[0m \u001b[32m11.9/11.9 MB\u001b[0m \u001b[31m22.8 MB/s\u001b[0m eta \u001b[36m0:00:00\u001b[0m\n",
            "\u001b[?25hCollecting ply (from pyomo)\n",
            "  Downloading ply-3.11-py2.py3-none-any.whl (49 kB)\n",
            "\u001b[2K     \u001b[90m━━━━━━━━━━━━━━━━━━━━━━━━━━━━━━━━━━━━━━━━\u001b[0m \u001b[32m49.6/49.6 kB\u001b[0m \u001b[31m4.8 MB/s\u001b[0m eta \u001b[36m0:00:00\u001b[0m\n",
            "\u001b[?25hInstalling collected packages: ply, pyomo\n",
            "Successfully installed ply-3.11 pyomo-6.6.1\n"
          ]
        }
      ],
      "source": [
        "!pip install pyomo\n",
        "!wget -N -q \"https://matematica.unipv.it/gualandi/solvers/ipopt-linux64.zip\"\n",
        "!unzip -o -q ipopt-linux64\n",
        "import pyomo.environ as pyo\n",
        "from pyomo.opt import SolverFactory"
      ]
    },
    {
      "cell_type": "code",
      "source": [
        "model = pyo.ConcreteModel()\n",
        "\n",
        "model.x1 = pyo.Var(domain = pyo.NonNegativeReals)\n",
        "x1 = model.x1\n",
        "model.x2 = pyo.Var(domain = pyo.NonNegativeReals)\n",
        "x2 = model.x2\n",
        "\n",
        "def objective_rule(model):\n",
        "  return x1*x2 - 180\n",
        "model.obj = pyo.Objective(rule = objective_rule, sense = pyo.maximize)\n",
        "\n",
        "def con1(model):\n",
        "  return 0.5*(x1 - x2) <= -4\n",
        "model.co1 = pyo.Constraint(rule = con1)\n",
        "\n",
        "def con2(model):\n",
        "  return 2*(x1+x2) <= 194\n",
        "model.co2 = pyo.Constraint(rule = con2)\n",
        "\n",
        "solver = SolverFactory('ipopt', executable = '/content/ipopt')\n",
        "results = solver.solve(model)\n",
        "print(results)\n",
        "print('Objective function', model.obj())\n",
        "print('Variables: \\tx1 =', x1(),'\\n\\t\\tx2 =',x2())"
      ],
      "metadata": {
        "colab": {
          "base_uri": "https://localhost:8080/"
        },
        "id": "muc4sDi6domN",
        "outputId": "77e4435e-8f8c-4b07-e0d8-5bc1ad229b1c"
      },
      "execution_count": 8,
      "outputs": [
        {
          "output_type": "stream",
          "name": "stdout",
          "text": [
            "\n",
            "Problem: \n",
            "- Lower bound: -inf\n",
            "  Upper bound: inf\n",
            "  Number of objectives: 1\n",
            "  Number of constraints: 2\n",
            "  Number of variables: 2\n",
            "  Sense: unknown\n",
            "Solver: \n",
            "- Status: ok\n",
            "  Message: Ipopt 3.12.13\\x3a Optimal Solution Found\n",
            "  Termination condition: optimal\n",
            "  Id: 0\n",
            "  Error rc: 0\n",
            "  Time: 0.01540231704711914\n",
            "Solution: \n",
            "- number of solutions: 0\n",
            "  number of solutions displayed: 0\n",
            "\n",
            "Objective function 2156.2500473599885\n",
            "Variables: \tx1 = 44.50000052466092 \n",
            "\t\tx2 = 52.50000044528742\n"
          ]
        }
      ]
    },
    {
      "cell_type": "code",
      "source": [],
      "metadata": {
        "id": "Qe2H-b04iYAZ"
      },
      "execution_count": null,
      "outputs": []
    }
  ]
}