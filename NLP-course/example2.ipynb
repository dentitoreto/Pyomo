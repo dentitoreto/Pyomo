{
  "nbformat": 4,
  "nbformat_minor": 0,
  "metadata": {
    "colab": {
      "provenance": []
    },
    "kernelspec": {
      "name": "python3",
      "display_name": "Python 3"
    },
    "language_info": {
      "name": "python"
    }
  },
  "cells": [
    {
      "cell_type": "code",
      "execution_count": 1,
      "metadata": {
        "id": "gW56lsr3VYZN",
        "colab": {
          "base_uri": "https://localhost:8080/"
        },
        "outputId": "2384f5fa-adb0-4270-886f-a655afd46050"
      },
      "outputs": [
        {
          "output_type": "stream",
          "name": "stdout",
          "text": [
            "Collecting pyomo\n",
            "  Downloading Pyomo-6.6.1-cp310-cp310-manylinux_2_17_x86_64.manylinux2014_x86_64.whl (11.9 MB)\n",
            "\u001b[2K     \u001b[90m━━━━━━━━━━━━━━━━━━━━━━━━━━━━━━━━━━━━━━━━\u001b[0m \u001b[32m11.9/11.9 MB\u001b[0m \u001b[31m23.8 MB/s\u001b[0m eta \u001b[36m0:00:00\u001b[0m\n",
            "\u001b[?25hCollecting ply (from pyomo)\n",
            "  Downloading ply-3.11-py2.py3-none-any.whl (49 kB)\n",
            "\u001b[2K     \u001b[90m━━━━━━━━━━━━━━━━━━━━━━━━━━━━━━━━━━━━━━━━\u001b[0m \u001b[32m49.6/49.6 kB\u001b[0m \u001b[31m5.1 MB/s\u001b[0m eta \u001b[36m0:00:00\u001b[0m\n",
            "\u001b[?25hInstalling collected packages: ply, pyomo\n",
            "Successfully installed ply-3.11 pyomo-6.6.1\n"
          ]
        }
      ],
      "source": [
        "!pip install pyomo\n",
        "!wget -N -q \"https://matematica.unipv.it/gualandi/solvers/ipopt-linux64.zip\"\n",
        "!unzip -o -q ipopt-linux64\n",
        "import pyomo.environ as pyo\n",
        "from pyomo.opt import SolverFactory"
      ]
    },
    {
      "cell_type": "code",
      "source": [
        "model = pyo.ConcreteModel()\n",
        "\n",
        "model.x1 = pyo.Var(domain = pyo.NonNegativeReals)\n",
        "x1 = model.x1\n",
        "model.y1 = pyo.Var(domain = pyo.NonNegativeReals)\n",
        "y1 = model.y1\n",
        "model.x2 = pyo.Var(domain = pyo.NonNegativeReals)\n",
        "x2 = model.x2\n",
        "model.y2 = pyo.Var(domain = pyo.NonNegativeReals)\n",
        "y2 = model.y2\n",
        "model.x3 = pyo.Var(domain = pyo.NonNegativeReals)\n",
        "x3 = model.x3\n",
        "model.y3 = pyo.Var(domain = pyo.NonNegativeReals)\n",
        "y3 = model.y3\n",
        "model.b = pyo.Var(domain = pyo.NonNegativeReals)\n",
        "b = model.b\n",
        "model.a = pyo.Var(domain = pyo.NonNegativeReals)\n",
        "a = model.a\n",
        "\n",
        "model.obj = pyo.Objective(expr = 2 * (a + b), sense = pyo.minimize)\n",
        "\n",
        "model.co1 = pyo.Constraint(expr = x1 >= 6)\n",
        "model.co2 = pyo.Constraint(expr = y1 >= 6)\n",
        "model.co3 = pyo.Constraint(expr = x2 >= 12)\n",
        "model.co4 = pyo.Constraint(expr = x2 >= 12)\n",
        "model.co5 = pyo.Constraint(expr = x3 >= 16)\n",
        "model.co6 = pyo.Constraint(expr = x3 >= 16)\n",
        "model.co7 = pyo.Constraint(expr = x1 <= b - 6)\n",
        "model.co9 = pyo.Constraint(expr = y1 <= a - 6)\n",
        "model.co10 = pyo.Constraint(expr = x2 <= b - 12)\n",
        "model.co11= pyo.Constraint(expr = y2 <= a - 12)\n",
        "model.co12= pyo.Constraint(expr = x3 <= b - 16)\n",
        "model.co13= pyo.Constraint(expr = y3 <= a - 16)\n",
        "model.co14= pyo.Constraint(expr =  (x1-x2)**2 + (y1-y2)**2 >= 324)\n",
        "model.co15= pyo.Constraint(expr = (x1-x3)**2 + (y1-y3)**2 >= 484)\n",
        "model.co16= pyo.Constraint(expr = (x2-x3)**2 + (y2-y3)**2 >= 784)\n",
        "\n",
        "solver = SolverFactory('ipopt', executable = '/content/ipopt')\n",
        "results = solver.solve(model)\n",
        "print(results)\n",
        "print('objective function', model.obj())\n",
        "print('x1=',x1())\n",
        "print('y1=',y1())\n",
        "print('x2=',x2())\n",
        "print('y2=',y2())\n",
        "print('x3=',x3())\n",
        "print('y3=',y3())\n",
        "print('a=',a())\n",
        "print('b=',b())\n"
      ],
      "metadata": {
        "id": "muc4sDi6domN",
        "colab": {
          "base_uri": "https://localhost:8080/"
        },
        "outputId": "3b02232e-9e67-4d81-e795-ffe06cfd7572"
      },
      "execution_count": 5,
      "outputs": [
        {
          "output_type": "stream",
          "name": "stdout",
          "text": [
            "\n",
            "Problem: \n",
            "- Lower bound: -inf\n",
            "  Upper bound: inf\n",
            "  Number of objectives: 1\n",
            "  Number of constraints: 15\n",
            "  Number of variables: 8\n",
            "  Sense: unknown\n",
            "Solver: \n",
            "- Status: ok\n",
            "  Message: Ipopt 3.12.13\\x3a Optimal Solution Found\n",
            "  Termination condition: optimal\n",
            "  Id: 0\n",
            "  Error rc: 0\n",
            "  Time: 0.019805192947387695\n",
            "Solution: \n",
            "- number of solutions: 0\n",
            "  number of solutions displayed: 0\n",
            "\n",
            "objective function 152.2727231911346\n",
            "x1= 23.14285697000621\n",
            "y1= 14.136362068171733\n",
            "x2= 11.999999882505376\n",
            "y2= 0.0\n",
            "x3= 39.99999974489008\n",
            "y3= 0.0\n",
            "a= 20.136362009424335\n",
            "b= 55.99999958614296\n"
          ]
        }
      ]
    },
    {
      "cell_type": "code",
      "source": [],
      "metadata": {
        "id": "Qe2H-b04iYAZ"
      },
      "execution_count": null,
      "outputs": []
    }
  ]
}