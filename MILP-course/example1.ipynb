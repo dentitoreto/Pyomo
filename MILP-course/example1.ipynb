{
  "nbformat": 4,
  "nbformat_minor": 0,
  "metadata": {
    "colab": {
      "provenance": []
    },
    "kernelspec": {
      "name": "python3",
      "display_name": "Python 3"
    },
    "language_info": {
      "name": "python"
    }
  },
  "cells": [
    {
      "cell_type": "code",
      "execution_count": 1,
      "metadata": {
        "id": "tY2k9pd-1d1s",
        "colab": {
          "base_uri": "https://localhost:8080/"
        },
        "outputId": "689fd2c6-9e18-4cd0-c9eb-8279403b9dde"
      },
      "outputs": [
        {
          "output_type": "stream",
          "name": "stdout",
          "text": [
            "Collecting pyomo\n",
            "  Downloading Pyomo-6.6.1-cp310-cp310-manylinux_2_17_x86_64.manylinux2014_x86_64.whl (11.9 MB)\n",
            "\u001b[2K     \u001b[90m━━━━━━━━━━━━━━━━━━━━━━━━━━━━━━━━━━━━━━━━\u001b[0m \u001b[32m11.9/11.9 MB\u001b[0m \u001b[31m29.9 MB/s\u001b[0m eta \u001b[36m0:00:00\u001b[0m\n",
            "\u001b[?25hCollecting ply (from pyomo)\n",
            "  Downloading ply-3.11-py2.py3-none-any.whl (49 kB)\n",
            "\u001b[2K     \u001b[90m━━━━━━━━━━━━━━━━━━━━━━━━━━━━━━━━━━━━━━━━\u001b[0m \u001b[32m49.6/49.6 kB\u001b[0m \u001b[31m4.8 MB/s\u001b[0m eta \u001b[36m0:00:00\u001b[0m\n",
            "\u001b[?25hInstalling collected packages: ply, pyomo\n",
            "Successfully installed ply-3.11 pyomo-6.6.1\n",
            "\u001b[2K     \u001b[90m━━━━━━━━━━━━━━━━━━━━━━━━━━━━━━━━━━━━━━━━\u001b[0m \u001b[32m44.2/44.2 MB\u001b[0m \u001b[31m14.6 MB/s\u001b[0m eta \u001b[36m0:00:00\u001b[0m\n",
            "\u001b[?25h"
          ]
        }
      ],
      "source": [
        "!pip install pyomo\n",
        "!pip install cplex -q"
      ]
    },
    {
      "cell_type": "code",
      "source": [
        "import pyomo.environ as pyo\n",
        "from pyomo.opt import SolverFactory"
      ],
      "metadata": {
        "id": "H-truwE9SdI2"
      },
      "execution_count": 2,
      "outputs": []
    },
    {
      "cell_type": "code",
      "source": [
        "model = pyo.ConcreteModel()\n",
        "\n",
        "model.i = pyo.Set(initialize = ['shirts','shorts','pants'])\n",
        "model.P = pyo.Param(model.i, initialize = {'shirts':12,'shorts':8,'pants':15})\n",
        "P = model.P\n",
        "model.Co = pyo.Param(model.i, initialize = {'shirts':6,'shorts':4,'pants':8})\n",
        "Co = model.Co\n",
        "model.F = pyo.Param(model.i, initialize = {'shirts':200,'shorts':150,'pants':100})\n",
        "F = model.F\n",
        "model.L = pyo.Param(model.i, initialize = {'shirts':3,'shorts':2,'pants':6})\n",
        "L = model.L\n",
        "model.C = pyo.Param(model.i, initialize = {'shirts':4,'shorts':3,'pants':4})\n",
        "C = model.C\n",
        "model.M = pyo.Param(model.i, initialize = {'shirts':40,'shorts':53,'pants':25})\n",
        "M = model.M\n",
        "\n",
        "model.x = pyo.Var(model.i, domain = pyo.Integers)\n",
        "model.y = pyo.Var(model.i, domain = pyo.Binary)\n",
        "x = model.x\n",
        "y = model.y\n",
        "\n",
        "def objective_rule(model,i):\n",
        "  return sum(P[i]*x[i] for i in model.i) - sum(Co[i]*x[i] for i in model.i) - sum(F[i]*y[i] for i in model.i)\n",
        "model.objective = pyo.Objective(rule = objective_rule, sense = pyo.maximize)\n",
        "\n",
        "def constr1(model,i):\n",
        "  return sum(L[i]*x[i] for i in model.i) <= 150\n",
        "model.constraint1 = pyo.Constraint(rule = constr1)\n",
        "\n",
        "def constr2(model,i):\n",
        "  return sum(C[i]*x[i] for i in model.i) <= 160\n",
        "model.constraint2 = pyo.Constraint(rule = constr2)\n",
        "\n",
        "def constr3(model,i):\n",
        "  return x[i] <= M[i] * y[i]\n",
        "model.constraint3 = pyo.Constraint(model.i,rule = constr3)\n",
        "\n",
        "solver = SolverFactory('cplex_direct')\n",
        "results = solver.solve(model)\n",
        "\n",
        "print(results)\n",
        "print('Objective function =',model.objective())\n",
        "for i in model.i:\n",
        "  print('Number of',i,'produces each week =',x[i]())\n",
        "\n"
      ],
      "metadata": {
        "colab": {
          "base_uri": "https://localhost:8080/"
        },
        "id": "idBHegKmSu2V",
        "outputId": "d9def72d-5a7c-41ee-e7d6-888bca655045"
      },
      "execution_count": 15,
      "outputs": [
        {
          "output_type": "stream",
          "name": "stdout",
          "text": [
            "\n",
            "Problem: \n",
            "- Name: \n",
            "  Lower bound: 75.00000000000031\n",
            "  Upper bound: 75.00000000000031\n",
            "  Number of objectives: 1\n",
            "  Number of constraints: 5\n",
            "  Number of variables: 6\n",
            "  Number of binary variables: 3\n",
            "  Number of integer variables: 3\n",
            "  Number of continuous variables: 0\n",
            "  Number of nonzeros: None\n",
            "  Sense: -1\n",
            "Solver: \n",
            "- Name: CPLEX 22.1.1.0\n",
            "  Status: ok\n",
            "  Wallclock time: 0.005083560943603516\n",
            "  Termination condition: optimal\n",
            "Solution: \n",
            "- number of solutions: 0\n",
            "  number of solutions displayed: 0\n",
            "\n",
            "Objective function = 75.00000000000034\n",
            "Number of shirts produces each week = 0.0\n",
            "Number of shorts produces each week = 1.1368683772161603e-13\n",
            "Number of pants produces each week = 24.99999999999996\n"
          ]
        }
      ]
    },
    {
      "cell_type": "code",
      "source": [],
      "metadata": {
        "id": "fnfWgjXEYmRk"
      },
      "execution_count": null,
      "outputs": []
    }
  ]
}